{
  "nbformat": 4,
  "nbformat_minor": 0,
  "metadata": {
    "colab": {
      "name": "Web scraping Quotes using BeautifulSoup.ipynb",
      "provenance": [],
      "collapsed_sections": []
    },
    "kernelspec": {
      "name": "python3",
      "display_name": "Python 3"
    },
    "language_info": {
      "name": "python"
    }
  },
  "cells": [
    {
      "cell_type": "code",
      "metadata": {
        "id": "H3aAoEBiS1fj"
      },
      "source": [
        "import requests\n",
        "import bs4"
      ],
      "execution_count": 1,
      "outputs": []
    },
    {
      "cell_type": "code",
      "metadata": {
        "id": "DO_GQhyBVFGf"
      },
      "source": [
        "res = requests.get(\"http://quotes.toscrape.com/\")"
      ],
      "execution_count": 4,
      "outputs": []
    },
    {
      "cell_type": "code",
      "metadata": {
        "id": "lA1VfHvPVP1n"
      },
      "source": [
        "soup = bs4.BeautifulSoup(res.text,\"lxml\")"
      ],
      "execution_count": 6,
      "outputs": []
    },
    {
      "cell_type": "code",
      "metadata": {
        "id": "drBhejxjVY3r"
      },
      "source": [
        "# getting authors from first page\n",
        "authors = set()\n",
        "for name in soup.select(\".author\"):\n",
        "  authors.add(name.text)"
      ],
      "execution_count": 7,
      "outputs": []
    },
    {
      "cell_type": "code",
      "metadata": {
        "colab": {
          "base_uri": "https://localhost:8080/"
        },
        "id": "yBd_RvB5ZZ9I",
        "outputId": "28b1e762-1e05-470e-e437-fdb033e54c97"
      },
      "source": [
        "authors"
      ],
      "execution_count": 8,
      "outputs": [
        {
          "output_type": "execute_result",
          "data": {
            "text/plain": [
              "{'Albert Einstein',\n",
              " 'André Gide',\n",
              " 'Eleanor Roosevelt',\n",
              " 'J.K. Rowling',\n",
              " 'Jane Austen',\n",
              " 'Marilyn Monroe',\n",
              " 'Steve Martin',\n",
              " 'Thomas A. Edison'}"
            ]
          },
          "metadata": {
            "tags": []
          },
          "execution_count": 8
        }
      ]
    },
    {
      "cell_type": "code",
      "metadata": {
        "id": "IIzBTgteZbH8"
      },
      "source": [
        "# getting quotes fro 1st page\n",
        "quotes = set()\n",
        "for quote in soup.select(\".text\"):\n",
        "  quotes.add(quote.text)"
      ],
      "execution_count": 9,
      "outputs": []
    },
    {
      "cell_type": "code",
      "metadata": {
        "colab": {
          "base_uri": "https://localhost:8080/"
        },
        "id": "Y6yGOpPVZo18",
        "outputId": "a09083cc-d8c1-40e0-bc59-94f7b3d49408"
      },
      "source": [
        "quotes"
      ],
      "execution_count": 10,
      "outputs": [
        {
          "output_type": "execute_result",
          "data": {
            "text/plain": [
              "{'“A day without sunshine is like, you know, night.”',\n",
              " \"“A woman is like a tea bag; you never know how strong it is until it's in hot water.”\",\n",
              " \"“I have not failed. I've just found 10,000 ways that won't work.”\",\n",
              " \"“Imperfection is beauty, madness is genius and it's better to be absolutely ridiculous than absolutely boring.”\",\n",
              " '“It is better to be hated for what you are than to be loved for what you are not.”',\n",
              " '“It is our choices, Harry, that show what we truly are, far more than our abilities.”',\n",
              " '“The person, be it gentleman or lady, who has not pleasure in a good novel, must be intolerably stupid.”',\n",
              " '“The world as we have created it is a process of our thinking. It cannot be changed without changing our thinking.”',\n",
              " '“There are only two ways to live your life. One is as though nothing is a miracle. The other is as though everything is a miracle.”',\n",
              " '“Try not to become a man of success. Rather become a man of value.”'}"
            ]
          },
          "metadata": {
            "tags": []
          },
          "execution_count": 10
        }
      ]
    },
    {
      "cell_type": "code",
      "metadata": {
        "colab": {
          "base_uri": "https://localhost:8080/"
        },
        "id": "JyWGkJaaZp3Y",
        "outputId": "ce1de25e-5518-4795-ed6e-3d0ddccb88ae"
      },
      "source": [
        "# get only tage\n",
        "for item in soup.select(\".tag-item\"):\n",
        "  print(item.text)"
      ],
      "execution_count": 11,
      "outputs": [
        {
          "output_type": "stream",
          "text": [
            "\n",
            "love\n",
            "\n",
            "\n",
            "inspirational\n",
            "\n",
            "\n",
            "life\n",
            "\n",
            "\n",
            "humor\n",
            "\n",
            "\n",
            "books\n",
            "\n",
            "\n",
            "reading\n",
            "\n",
            "\n",
            "friendship\n",
            "\n",
            "\n",
            "friends\n",
            "\n",
            "\n",
            "truth\n",
            "\n",
            "\n",
            "simile\n",
            "\n"
          ],
          "name": "stdout"
        }
      ]
    },
    {
      "cell_type": "code",
      "metadata": {
        "id": "MTtFVd_Hcxug"
      },
      "source": [
        "base_url =  \"http://quotes.toscrape.com/page/{}/\""
      ],
      "execution_count": 12,
      "outputs": []
    },
    {
      "cell_type": "code",
      "metadata": {
        "id": "xZzUumL6bFCS"
      },
      "source": [
        "result = requests.get(base_url.format(1))"
      ],
      "execution_count": 13,
      "outputs": []
    },
    {
      "cell_type": "code",
      "metadata": {
        "id": "kPcUHkSSc6Ew"
      },
      "source": [
        "soup = bs4.BeautifulSoup(result.text,\"lxml\")"
      ],
      "execution_count": 14,
      "outputs": []
    },
    {
      "cell_type": "code",
      "metadata": {
        "colab": {
          "base_uri": "https://localhost:8080/"
        },
        "id": "Q2ykSPCrdBML",
        "outputId": "1d3e4f7d-e3e0-4ae0-e828-134b069fc053"
      },
      "source": [
        "soup.select(\".author\")"
      ],
      "execution_count": 18,
      "outputs": [
        {
          "output_type": "execute_result",
          "data": {
            "text/plain": [
              "[<small class=\"author\" itemprop=\"author\">Albert Einstein</small>,\n",
              " <small class=\"author\" itemprop=\"author\">J.K. Rowling</small>,\n",
              " <small class=\"author\" itemprop=\"author\">Albert Einstein</small>,\n",
              " <small class=\"author\" itemprop=\"author\">Jane Austen</small>,\n",
              " <small class=\"author\" itemprop=\"author\">Marilyn Monroe</small>,\n",
              " <small class=\"author\" itemprop=\"author\">Albert Einstein</small>,\n",
              " <small class=\"author\" itemprop=\"author\">André Gide</small>,\n",
              " <small class=\"author\" itemprop=\"author\">Thomas A. Edison</small>,\n",
              " <small class=\"author\" itemprop=\"author\">Eleanor Roosevelt</small>,\n",
              " <small class=\"author\" itemprop=\"author\">Steve Martin</small>]"
            ]
          },
          "metadata": {
            "tags": []
          },
          "execution_count": 18
        }
      ]
    },
    {
      "cell_type": "code",
      "metadata": {
        "colab": {
          "base_uri": "https://localhost:8080/",
          "height": 299
        },
        "id": "XpaMVt_JfZR_",
        "outputId": "c4a118fa-e648-4497-e8f4-23902241eb4a"
      },
      "source": [
        "soup.select(\".col-md-8\")[0][\"text\"]\n",
        "soup"
      ],
      "execution_count": 27,
      "outputs": [
        {
          "output_type": "error",
          "ename": "KeyError",
          "evalue": "ignored",
          "traceback": [
            "\u001b[0;31m---------------------------------------------------------------------------\u001b[0m",
            "\u001b[0;31mKeyError\u001b[0m                                  Traceback (most recent call last)",
            "\u001b[0;32m<ipython-input-27-e8f2e98b970a>\u001b[0m in \u001b[0;36m<module>\u001b[0;34m()\u001b[0m\n\u001b[0;32m----> 1\u001b[0;31m \u001b[0msoup\u001b[0m\u001b[0;34m.\u001b[0m\u001b[0mselect\u001b[0m\u001b[0;34m(\u001b[0m\u001b[0;34m\".col-md-8\"\u001b[0m\u001b[0;34m)\u001b[0m\u001b[0;34m[\u001b[0m\u001b[0;36m0\u001b[0m\u001b[0;34m]\u001b[0m\u001b[0;34m[\u001b[0m\u001b[0;34m\"text\"\u001b[0m\u001b[0;34m]\u001b[0m\u001b[0;34m\u001b[0m\u001b[0;34m\u001b[0m\u001b[0m\n\u001b[0m\u001b[1;32m      2\u001b[0m \u001b[0msoup\u001b[0m\u001b[0;34m\u001b[0m\u001b[0;34m\u001b[0m\u001b[0m\n",
            "\u001b[0;32m/usr/local/lib/python3.7/dist-packages/bs4/element.py\u001b[0m in \u001b[0;36m__getitem__\u001b[0;34m(self, key)\u001b[0m\n\u001b[1;32m   1069\u001b[0m         \"\"\"tag[key] returns the value of the 'key' attribute for the tag,\n\u001b[1;32m   1070\u001b[0m         and throws an exception if it's not there.\"\"\"\n\u001b[0;32m-> 1071\u001b[0;31m         \u001b[0;32mreturn\u001b[0m \u001b[0mself\u001b[0m\u001b[0;34m.\u001b[0m\u001b[0mattrs\u001b[0m\u001b[0;34m[\u001b[0m\u001b[0mkey\u001b[0m\u001b[0;34m]\u001b[0m\u001b[0;34m\u001b[0m\u001b[0;34m\u001b[0m\u001b[0m\n\u001b[0m\u001b[1;32m   1072\u001b[0m \u001b[0;34m\u001b[0m\u001b[0m\n\u001b[1;32m   1073\u001b[0m     \u001b[0;32mdef\u001b[0m \u001b[0m__iter__\u001b[0m\u001b[0;34m(\u001b[0m\u001b[0mself\u001b[0m\u001b[0;34m)\u001b[0m\u001b[0;34m:\u001b[0m\u001b[0;34m\u001b[0m\u001b[0;34m\u001b[0m\u001b[0m\n",
            "\u001b[0;31mKeyError\u001b[0m: 'text'"
          ]
        }
      ]
    },
    {
      "cell_type": "code",
      "metadata": {
        "id": "geLTFq-jdCOa"
      },
      "source": [
        "authors = []\n",
        "\n",
        "for n in range(1,11):\n",
        "  result = requests.get(base_url.format(n))\n",
        "  soup = bs4.BeautifulSoup(result.text,\"lxml\")\n",
        "\n",
        "  for author in soup.select(\".author\"):\n",
        "    authors.append(author.text)"
      ],
      "execution_count": 22,
      "outputs": []
    },
    {
      "cell_type": "code",
      "metadata": {
        "colab": {
          "base_uri": "https://localhost:8080/"
        },
        "id": "CD2AWTTwdiXB",
        "outputId": "b5397c52-9b4d-4dd6-b119-0481bda07a17"
      },
      "source": [
        "authors"
      ],
      "execution_count": 23,
      "outputs": [
        {
          "output_type": "execute_result",
          "data": {
            "text/plain": [
              "['Albert Einstein',\n",
              " 'J.K. Rowling',\n",
              " 'Albert Einstein',\n",
              " 'Jane Austen',\n",
              " 'Marilyn Monroe',\n",
              " 'Albert Einstein',\n",
              " 'André Gide',\n",
              " 'Thomas A. Edison',\n",
              " 'Eleanor Roosevelt',\n",
              " 'Steve Martin',\n",
              " 'Marilyn Monroe',\n",
              " 'J.K. Rowling',\n",
              " 'Albert Einstein',\n",
              " 'Bob Marley',\n",
              " 'Dr. Seuss',\n",
              " 'Douglas Adams',\n",
              " 'Elie Wiesel',\n",
              " 'Friedrich Nietzsche',\n",
              " 'Mark Twain',\n",
              " 'Allen Saunders',\n",
              " 'Pablo Neruda',\n",
              " 'Ralph Waldo Emerson',\n",
              " 'Mother Teresa',\n",
              " 'Garrison Keillor',\n",
              " 'Jim Henson',\n",
              " 'Dr. Seuss',\n",
              " 'Albert Einstein',\n",
              " 'J.K. Rowling',\n",
              " 'Albert Einstein',\n",
              " 'Bob Marley',\n",
              " 'Dr. Seuss',\n",
              " 'J.K. Rowling',\n",
              " 'Bob Marley',\n",
              " 'Mother Teresa',\n",
              " 'J.K. Rowling',\n",
              " 'Charles M. Schulz',\n",
              " 'William Nicholson',\n",
              " 'Albert Einstein',\n",
              " 'Jorge Luis Borges',\n",
              " 'George Eliot',\n",
              " 'George R.R. Martin',\n",
              " 'C.S. Lewis',\n",
              " 'Marilyn Monroe',\n",
              " 'Marilyn Monroe',\n",
              " 'Albert Einstein',\n",
              " 'Marilyn Monroe',\n",
              " 'Marilyn Monroe',\n",
              " 'Martin Luther King Jr.',\n",
              " 'J.K. Rowling',\n",
              " 'James Baldwin',\n",
              " 'Jane Austen',\n",
              " 'Eleanor Roosevelt',\n",
              " 'Marilyn Monroe',\n",
              " 'Albert Einstein',\n",
              " 'Haruki Murakami',\n",
              " 'Alexandre Dumas fils',\n",
              " 'Stephenie Meyer',\n",
              " 'Ernest Hemingway',\n",
              " 'Helen Keller',\n",
              " 'George Bernard Shaw',\n",
              " 'Charles Bukowski',\n",
              " 'Suzanne Collins',\n",
              " 'Suzanne Collins',\n",
              " 'C.S. Lewis',\n",
              " 'J.R.R. Tolkien',\n",
              " 'J.K. Rowling',\n",
              " 'Ernest Hemingway',\n",
              " 'Ralph Waldo Emerson',\n",
              " 'Mark Twain',\n",
              " 'Dr. Seuss',\n",
              " 'Alfred Tennyson',\n",
              " 'Charles Bukowski',\n",
              " 'Terry Pratchett',\n",
              " 'Dr. Seuss',\n",
              " 'J.D. Salinger',\n",
              " 'George Carlin',\n",
              " 'John Lennon',\n",
              " 'W.C. Fields',\n",
              " 'Ayn Rand',\n",
              " 'Mark Twain',\n",
              " 'Albert Einstein',\n",
              " 'Jane Austen',\n",
              " 'J.K. Rowling',\n",
              " 'Jane Austen',\n",
              " 'Jane Austen',\n",
              " 'C.S. Lewis',\n",
              " 'C.S. Lewis',\n",
              " 'Mark Twain',\n",
              " 'Mark Twain',\n",
              " 'C.S. Lewis',\n",
              " 'J.K. Rowling',\n",
              " 'Jimi Hendrix',\n",
              " 'J.M. Barrie',\n",
              " 'E.E. Cummings',\n",
              " 'Khaled Hosseini',\n",
              " 'Harper Lee',\n",
              " \"Madeleine L'Engle\",\n",
              " 'Mark Twain',\n",
              " 'Dr. Seuss',\n",
              " 'George R.R. Martin']"
            ]
          },
          "metadata": {
            "tags": []
          },
          "execution_count": 23
        }
      ]
    },
    {
      "cell_type": "code",
      "metadata": {
        "id": "Msu1JGKBdzur"
      },
      "source": [
        ""
      ],
      "execution_count": null,
      "outputs": []
    }
  ]
}